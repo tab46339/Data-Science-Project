{
 "cells": [
  {
   "cell_type": "code",
   "execution_count": 28,
   "metadata": {
    "collapsed": true
   },
   "outputs": [],
   "source": [
    "from sklearn.model_selection import train_test_split\n",
    "from sklearn.linear_model import LogisticRegression\n",
    "import urllib2\n",
    "import requests\n",
    "from bs4 import BeautifulSoup\n",
    "import pandas as pd\n",
    "import json\n",
    "%matplotlib inline\n",
    "import matplotlib.pyplot as plt\n",
    "import seaborn as sns\n",
    "import numpy as np"
   ]
  },
  {
   "cell_type": "markdown",
   "metadata": {},
   "source": [
    "First, define X"
   ]
  },
  {
   "cell_type": "code",
   "execution_count": 29,
   "metadata": {
    "scrolled": false
   },
   "outputs": [
    {
     "name": "stdout",
     "output_type": "stream",
     "text": [
      "<class 'pandas.core.frame.DataFrame'>\n",
      "RangeIndex: 1459 entries, 0 to 1458\n",
      "Data columns (total 26 columns):\n",
      "Quote                       1459 non-null object\n",
      "Beta                        1459 non-null float64\n",
      "Current Ratio               1459 non-null float64\n",
      "Diluted EPS                 1459 non-null float64\n",
      "EBITDA                      1459 non-null float64\n",
      "EV                          1459 non-null float64\n",
      "Operating Margin            1459 non-null float64\n",
      "P/B                         1459 non-null float64\n",
      "P/S                         1459 non-null float64\n",
      "Profit Margin               1459 non-null float64\n",
      "Qualterly Revenue Growth    1459 non-null float64\n",
      "ROA                         1459 non-null float64\n",
      "ROE                         1459 non-null float64\n",
      "Week Change                 1459 non-null float64\n",
      "isBasicIndustries           1459 non-null int64\n",
      "isCapitalGoods              1459 non-null int64\n",
      "isConsumerDurables          1459 non-null int64\n",
      "isConsumerNonDurables       1459 non-null int64\n",
      "isConsumerServices          1459 non-null int64\n",
      "isEnergy                    1459 non-null int64\n",
      "isFinance                   1459 non-null int64\n",
      "isHealthCase                1459 non-null int64\n",
      "isMiscellaneous             1459 non-null int64\n",
      "isPublicUtilities           1459 non-null int64\n",
      "isTechnology                1459 non-null int64\n",
      "isTransportation            1459 non-null int64\n",
      "dtypes: float64(13), int64(12), object(1)\n",
      "memory usage: 296.4+ KB\n",
      "None\n",
      "--------------------------------------------------------\n"
     ]
    }
   ],
   "source": [
    "target_data = \"./features.csv\"\n",
    "features = pd.read_csv(target_data, parse_dates = True)\n",
    "features = features.drop(['Unnamed: 0'],axis=1)\n",
    "#features = features.drop(['Operating Margin', 'P/B', 'ROA', 'EV', 'Shares Outstanding'],axis=1)\n",
    "#features = features.drop(['Revenue'],axis=1)\n",
    "print features.info()\n",
    "print \"--------------------------------------------------------\"\n",
    "\n",
    "X = []\n",
    "for index, rows in features.iterrows():\n",
    "    X.append([])\n",
    "    X[index].append(1)\n",
    "    for a in range(1, len(rows)):\n",
    "        X[index].append(rows[a])"
   ]
  },
  {
   "cell_type": "code",
   "execution_count": 30,
   "metadata": {},
   "outputs": [
    {
     "data": {
      "text/html": [
       "<div>\n",
       "<style>\n",
       "    .dataframe thead tr:only-child th {\n",
       "        text-align: right;\n",
       "    }\n",
       "\n",
       "    .dataframe thead th {\n",
       "        text-align: left;\n",
       "    }\n",
       "\n",
       "    .dataframe tbody tr th {\n",
       "        vertical-align: top;\n",
       "    }\n",
       "</style>\n",
       "<table border=\"1\" class=\"dataframe\">\n",
       "  <thead>\n",
       "    <tr style=\"text-align: right;\">\n",
       "      <th></th>\n",
       "      <th>Quote</th>\n",
       "      <th>Beta</th>\n",
       "      <th>Current Ratio</th>\n",
       "      <th>Diluted EPS</th>\n",
       "      <th>EBITDA</th>\n",
       "      <th>EV</th>\n",
       "      <th>Operating Margin</th>\n",
       "      <th>P/B</th>\n",
       "      <th>P/S</th>\n",
       "      <th>Profit Margin</th>\n",
       "      <th>...</th>\n",
       "      <th>isConsumerDurables</th>\n",
       "      <th>isConsumerNonDurables</th>\n",
       "      <th>isConsumerServices</th>\n",
       "      <th>isEnergy</th>\n",
       "      <th>isFinance</th>\n",
       "      <th>isHealthCase</th>\n",
       "      <th>isMiscellaneous</th>\n",
       "      <th>isPublicUtilities</th>\n",
       "      <th>isTechnology</th>\n",
       "      <th>isTransportation</th>\n",
       "    </tr>\n",
       "  </thead>\n",
       "  <tbody>\n",
       "    <tr>\n",
       "      <th>0</th>\n",
       "      <td>AABA</td>\n",
       "      <td>1.98</td>\n",
       "      <td>17.07</td>\n",
       "      <td>29.96</td>\n",
       "      <td>6.650000e+06</td>\n",
       "      <td>5.905000e+10</td>\n",
       "      <td>0.1221</td>\n",
       "      <td>0.95</td>\n",
       "      <td>1159.80</td>\n",
       "      <td>453.8760</td>\n",
       "      <td>...</td>\n",
       "      <td>0</td>\n",
       "      <td>0</td>\n",
       "      <td>0</td>\n",
       "      <td>0</td>\n",
       "      <td>0</td>\n",
       "      <td>0</td>\n",
       "      <td>0</td>\n",
       "      <td>0</td>\n",
       "      <td>1</td>\n",
       "      <td>0</td>\n",
       "    </tr>\n",
       "    <tr>\n",
       "      <th>1</th>\n",
       "      <td>AAL</td>\n",
       "      <td>1.27</td>\n",
       "      <td>0.61</td>\n",
       "      <td>3.90</td>\n",
       "      <td>6.790000e+09</td>\n",
       "      <td>4.170000e+10</td>\n",
       "      <td>0.1130</td>\n",
       "      <td>5.78</td>\n",
       "      <td>0.54</td>\n",
       "      <td>0.0455</td>\n",
       "      <td>...</td>\n",
       "      <td>0</td>\n",
       "      <td>0</td>\n",
       "      <td>0</td>\n",
       "      <td>0</td>\n",
       "      <td>0</td>\n",
       "      <td>0</td>\n",
       "      <td>0</td>\n",
       "      <td>0</td>\n",
       "      <td>0</td>\n",
       "      <td>1</td>\n",
       "    </tr>\n",
       "    <tr>\n",
       "      <th>2</th>\n",
       "      <td>AAME</td>\n",
       "      <td>0.77</td>\n",
       "      <td>1.21</td>\n",
       "      <td>0.20</td>\n",
       "      <td>8.520000e+06</td>\n",
       "      <td>7.366000e+07</td>\n",
       "      <td>0.0391</td>\n",
       "      <td>0.56</td>\n",
       "      <td>0.35</td>\n",
       "      <td>0.0250</td>\n",
       "      <td>...</td>\n",
       "      <td>0</td>\n",
       "      <td>0</td>\n",
       "      <td>0</td>\n",
       "      <td>0</td>\n",
       "      <td>1</td>\n",
       "      <td>0</td>\n",
       "      <td>0</td>\n",
       "      <td>0</td>\n",
       "      <td>0</td>\n",
       "      <td>0</td>\n",
       "    </tr>\n",
       "    <tr>\n",
       "      <th>3</th>\n",
       "      <td>AAOI</td>\n",
       "      <td>1.22</td>\n",
       "      <td>3.25</td>\n",
       "      <td>3.67</td>\n",
       "      <td>1.073300e+08</td>\n",
       "      <td>5.553100e+08</td>\n",
       "      <td>0.2274</td>\n",
       "      <td>1.65</td>\n",
       "      <td>1.44</td>\n",
       "      <td>0.1934</td>\n",
       "      <td>...</td>\n",
       "      <td>0</td>\n",
       "      <td>0</td>\n",
       "      <td>0</td>\n",
       "      <td>0</td>\n",
       "      <td>0</td>\n",
       "      <td>0</td>\n",
       "      <td>0</td>\n",
       "      <td>0</td>\n",
       "      <td>1</td>\n",
       "      <td>0</td>\n",
       "    </tr>\n",
       "    <tr>\n",
       "      <th>4</th>\n",
       "      <td>AAON</td>\n",
       "      <td>0.67</td>\n",
       "      <td>3.07</td>\n",
       "      <td>1.03</td>\n",
       "      <td>8.988000e+07</td>\n",
       "      <td>1.820000e+09</td>\n",
       "      <td>0.1848</td>\n",
       "      <td>7.99</td>\n",
       "      <td>4.68</td>\n",
       "      <td>0.1345</td>\n",
       "      <td>...</td>\n",
       "      <td>0</td>\n",
       "      <td>0</td>\n",
       "      <td>0</td>\n",
       "      <td>0</td>\n",
       "      <td>0</td>\n",
       "      <td>0</td>\n",
       "      <td>0</td>\n",
       "      <td>0</td>\n",
       "      <td>0</td>\n",
       "      <td>0</td>\n",
       "    </tr>\n",
       "  </tbody>\n",
       "</table>\n",
       "<p>5 rows × 26 columns</p>\n",
       "</div>"
      ],
      "text/plain": [
       "  Quote  Beta  Current Ratio  Diluted EPS        EBITDA            EV  \\\n",
       "0  AABA  1.98          17.07        29.96  6.650000e+06  5.905000e+10   \n",
       "1   AAL  1.27           0.61         3.90  6.790000e+09  4.170000e+10   \n",
       "2  AAME  0.77           1.21         0.20  8.520000e+06  7.366000e+07   \n",
       "3  AAOI  1.22           3.25         3.67  1.073300e+08  5.553100e+08   \n",
       "4  AAON  0.67           3.07         1.03  8.988000e+07  1.820000e+09   \n",
       "\n",
       "   Operating Margin   P/B      P/S  Profit Margin        ...         \\\n",
       "0            0.1221  0.95  1159.80       453.8760        ...          \n",
       "1            0.1130  5.78     0.54         0.0455        ...          \n",
       "2            0.0391  0.56     0.35         0.0250        ...          \n",
       "3            0.2274  1.65     1.44         0.1934        ...          \n",
       "4            0.1848  7.99     4.68         0.1345        ...          \n",
       "\n",
       "   isConsumerDurables  isConsumerNonDurables  isConsumerServices  isEnergy  \\\n",
       "0                   0                      0                   0         0   \n",
       "1                   0                      0                   0         0   \n",
       "2                   0                      0                   0         0   \n",
       "3                   0                      0                   0         0   \n",
       "4                   0                      0                   0         0   \n",
       "\n",
       "   isFinance  isHealthCase  isMiscellaneous  isPublicUtilities  isTechnology  \\\n",
       "0          0             0                0                  0             1   \n",
       "1          0             0                0                  0             0   \n",
       "2          1             0                0                  0             0   \n",
       "3          0             0                0                  0             1   \n",
       "4          0             0                0                  0             0   \n",
       "\n",
       "   isTransportation  \n",
       "0                 0  \n",
       "1                 1  \n",
       "2                 0  \n",
       "3                 0  \n",
       "4                 0  \n",
       "\n",
       "[5 rows x 26 columns]"
      ]
     },
     "execution_count": 30,
     "metadata": {},
     "output_type": "execute_result"
    }
   ],
   "source": [
    "features.head()"
   ]
  },
  {
   "cell_type": "markdown",
   "metadata": {},
   "source": [
    "Define Y and filter out extra variables"
   ]
  },
  {
   "cell_type": "code",
   "execution_count": 31,
   "metadata": {},
   "outputs": [
    {
     "name": "stdout",
     "output_type": "stream",
     "text": [
      "<class 'pandas.core.frame.DataFrame'>\n",
      "RangeIndex: 2660 entries, 0 to 2659\n",
      "Data columns (total 6 columns):\n",
      "Stock              2660 non-null object\n",
      "Bollinger Band     2660 non-null int64\n",
      "Keltner Channel    2660 non-null int64\n",
      "Moving Envelope    2660 non-null int64\n",
      "Parabolic SAR      2660 non-null int64\n",
      "Price Channel      2660 non-null int64\n",
      "dtypes: int64(5), object(1)\n",
      "memory usage: 124.8+ KB\n",
      "None\n",
      "------------------------------------------------------\n"
     ]
    }
   ],
   "source": [
    "target_data = \"./stock01.csv\"\n",
    "stock01 = pd.read_csv(target_data, parse_dates = True)\n",
    "stock01 = stock01.drop(['Unnamed: 0'],axis=1)\n",
    "print stock01.info()\n",
    "print \"------------------------------------------------------\""
   ]
  },
  {
   "cell_type": "code",
   "execution_count": 32,
   "metadata": {},
   "outputs": [
    {
     "data": {
      "text/html": [
       "<div>\n",
       "<style>\n",
       "    .dataframe thead tr:only-child th {\n",
       "        text-align: right;\n",
       "    }\n",
       "\n",
       "    .dataframe thead th {\n",
       "        text-align: left;\n",
       "    }\n",
       "\n",
       "    .dataframe tbody tr th {\n",
       "        vertical-align: top;\n",
       "    }\n",
       "</style>\n",
       "<table border=\"1\" class=\"dataframe\">\n",
       "  <thead>\n",
       "    <tr style=\"text-align: right;\">\n",
       "      <th></th>\n",
       "      <th>Stock</th>\n",
       "    </tr>\n",
       "  </thead>\n",
       "  <tbody>\n",
       "    <tr>\n",
       "      <th>0</th>\n",
       "      <td>AABA</td>\n",
       "    </tr>\n",
       "    <tr>\n",
       "      <th>1</th>\n",
       "      <td>AAL</td>\n",
       "    </tr>\n",
       "    <tr>\n",
       "      <th>2</th>\n",
       "      <td>AAME</td>\n",
       "    </tr>\n",
       "    <tr>\n",
       "      <th>3</th>\n",
       "      <td>AAOI</td>\n",
       "    </tr>\n",
       "    <tr>\n",
       "      <th>4</th>\n",
       "      <td>AAON</td>\n",
       "    </tr>\n",
       "  </tbody>\n",
       "</table>\n",
       "</div>"
      ],
      "text/plain": [
       "  Stock\n",
       "0  AABA\n",
       "1   AAL\n",
       "2  AAME\n",
       "3  AAOI\n",
       "4  AAON"
      ]
     },
     "execution_count": 32,
     "metadata": {},
     "output_type": "execute_result"
    }
   ],
   "source": [
    "overlays = pd.DataFrame({'Stock':features.Quote})\n",
    "overlays.head()"
   ]
  },
  {
   "cell_type": "code",
   "execution_count": 33,
   "metadata": {
    "collapsed": true
   },
   "outputs": [],
   "source": [
    "overlays = pd.merge(stock01, overlays, on='Stock', how='inner')"
   ]
  },
  {
   "cell_type": "code",
   "execution_count": 34,
   "metadata": {},
   "outputs": [
    {
     "name": "stdout",
     "output_type": "stream",
     "text": [
      "<class 'pandas.core.frame.DataFrame'>\n",
      "Int64Index: 1459 entries, 0 to 1458\n",
      "Data columns (total 6 columns):\n",
      "Stock              1459 non-null object\n",
      "Bollinger Band     1459 non-null int64\n",
      "Keltner Channel    1459 non-null int64\n",
      "Moving Envelope    1459 non-null int64\n",
      "Parabolic SAR      1459 non-null int64\n",
      "Price Channel      1459 non-null int64\n",
      "dtypes: int64(5), object(1)\n",
      "memory usage: 79.8+ KB\n"
     ]
    }
   ],
   "source": [
    "overlays.info()"
   ]
  },
  {
   "cell_type": "code",
   "execution_count": 35,
   "metadata": {
    "collapsed": true
   },
   "outputs": [],
   "source": [
    "y_pc = overlays['Price Channel'].tolist()\n",
    "y_mae = overlays['Moving Envelope'].tolist()\n",
    "y_bb = overlays['Parabolic SAR'].tolist()\n",
    "y_kc = overlays['Keltner Channel'].tolist()\n",
    "y_psar = overlays['Bollinger Band'].tolist()"
   ]
  },
  {
   "cell_type": "markdown",
   "metadata": {},
   "source": [
    "Build the Logistic regression model"
   ]
  },
  {
   "cell_type": "code",
   "execution_count": 36,
   "metadata": {},
   "outputs": [
    {
     "name": "stdout",
     "output_type": "stream",
     "text": [
      "Price Channels\n",
      "Log Regression train: 0.611165523996\n",
      "Log Regression test: 0.60502283105\n"
     ]
    }
   ],
   "source": [
    "# The probability of price channels\n",
    "X_train, X_test, y_train, y_test = train_test_split(X, y_pc, test_size=0.3, random_state=1)\n",
    "\n",
    "lr_pc = LogisticRegression(solver='liblinear')\n",
    "result_pc = lr_pc.fit(X_train, y_train)\n",
    "\n",
    "print \"Price Channels\"\n",
    "print \"Log Regression train: {}\".format(np.mean(lr_pc.predict(X_train) == y_train))\n",
    "print \"Log Regression test: {}\".format(np.mean(lr_pc.predict(X_test) == y_test))"
   ]
  },
  {
   "cell_type": "code",
   "execution_count": 37,
   "metadata": {},
   "outputs": [
    {
     "name": "stdout",
     "output_type": "stream",
     "text": [
      "Moving Average Envelope\n",
      "Log Regression train: 0.715964740451\n",
      "Log Regression test: 0.75799086758\n"
     ]
    }
   ],
   "source": [
    "# The probability of Moving Average Envelope\n",
    "X_train, X_test, y_train, y_test = train_test_split(X, y_mae, test_size=0.3, random_state=1)\n",
    "\n",
    "lr_mae = LogisticRegression(solver='liblinear')\n",
    "result_mae= lr_mae.fit(X_train, y_train)\n",
    "\n",
    "print \"Moving Average Envelope\"\n",
    "print \"Log Regression train: {}\".format(np.mean(lr_mae.predict(X_train) == y_train))\n",
    "print \"Log Regression test: {}\".format(np.mean(lr_mae.predict(X_test) == y_test))"
   ]
  },
  {
   "cell_type": "code",
   "execution_count": 38,
   "metadata": {},
   "outputs": [
    {
     "name": "stdout",
     "output_type": "stream",
     "text": [
      "Bollinger Bands\n",
      "Log Regression train: 0.86777668952\n",
      "Log Regression test: 0.842465753425\n"
     ]
    }
   ],
   "source": [
    "# The probability of Bolling Bands\n",
    "X_train, X_test, y_train, y_test = train_test_split(X, y_bb, test_size=0.3, random_state=1)\n",
    "\n",
    "lr_bb = LogisticRegression(solver='liblinear')\n",
    "result_bb = lr_bb.fit(X_train, y_train)\n",
    "\n",
    "print \"Bollinger Bands\"\n",
    "print \"Log Regression train: {}\".format(np.mean(lr_bb.predict(X_train) == y_train))\n",
    "print \"Log Regression test: {}\".format(np.mean(lr_bb.predict(X_test) == y_test))"
   ]
  },
  {
   "cell_type": "code",
   "execution_count": 39,
   "metadata": {},
   "outputs": [
    {
     "name": "stdout",
     "output_type": "stream",
     "text": [
      "Keltner Channels\n",
      "Log Regression train: 0.869735553379\n",
      "Log Regression test: 0.840182648402\n"
     ]
    }
   ],
   "source": [
    "# The probability of Keltner Channels\n",
    "X_train, X_test, y_train, y_test = train_test_split(X, y_kc, test_size=0.3, random_state=1)\n",
    "\n",
    "lr_kc = LogisticRegression(solver='liblinear')\n",
    "result_kc = lr_kc.fit(X_train, y_train)\n",
    "\n",
    "print \"Keltner Channels\"\n",
    "print \"Log Regression train: {}\".format(np.mean(lr_kc.predict(X_train) == y_train))\n",
    "print \"Log Regression test: {}\".format(np.mean(lr_kc.predict(X_test) == y_test))"
   ]
  },
  {
   "cell_type": "code",
   "execution_count": 40,
   "metadata": {},
   "outputs": [
    {
     "name": "stdout",
     "output_type": "stream",
     "text": [
      "Parabolic SAR\n",
      "Log Regression train: 0.861900097943\n",
      "Log Regression test: 0.86301369863\n"
     ]
    }
   ],
   "source": [
    "# The probability of Parabolic SAR\n",
    "X_train, X_test, y_train, y_test = train_test_split(X, y_psar, test_size=0.3, random_state=1)\n",
    "\n",
    "lr_psar = LogisticRegression(solver='liblinear')\n",
    "result_psar = lr_psar.fit(X_train, y_train)\n",
    "\n",
    "print \"Parabolic SAR\"\n",
    "print \"Log Regression train: {}\".format(np.mean(lr_psar.predict(X_train) == y_train))\n",
    "print \"Log Regression test: {}\".format(np.mean(lr_psar.predict(X_test) == y_test))"
   ]
  }
 ],
 "metadata": {
  "kernelspec": {
   "display_name": "Python 2",
   "language": "python",
   "name": "python2"
  },
  "language_info": {
   "codemirror_mode": {
    "name": "ipython",
    "version": 2
   },
   "file_extension": ".py",
   "mimetype": "text/x-python",
   "name": "python",
   "nbconvert_exporter": "python",
   "pygments_lexer": "ipython2",
   "version": "2.7.14"
  }
 },
 "nbformat": 4,
 "nbformat_minor": 2
}
